{
 "cells": [
  {
   "cell_type": "markdown",
   "id": "95254c0d",
   "metadata": {},
   "source": [
    "## Import Packages\n",
    "After installing Snowpark in our Python environment, we import the Snowpark packages.<br>\n",
    "**Value:** Snowpark is easy to install and set up. It follows a familiar process for Python users.\n",
    "\n",
    "*Documentation for installing and setting up Snowpark:* https://docs.snowflake.com/en/developer-guide/snowpark/python/setup.html <br>\n",
    "\n",
    "Just like the Python packages we are importing, we will import the Snowpark modules that we need.<br>\n",
    "**Value**: Snowflake modules provide efficient ways to work with data and functions in Snowflake."
   ]
  },
  {
   "cell_type": "code",
   "execution_count": 2,
   "id": "967f031a",
   "metadata": {},
   "outputs": [],
   "source": [
    "# Import Python packages\n",
    "import pandas as pd\n",
    "import plotly.express as px\n",
    "import plotly.io as pio\n",
    "import json\n",
    "import sys\n",
    "import cachetools\n",
    "\n",
    "# Import Snowflake modules\n",
    "from snowflake.snowpark import Session\n",
    "import snowflake.snowpark.functions as F\n",
    "import snowflake.snowpark.types as T\n",
    "from snowflake.snowpark import Window"
   ]
  },
  {
   "cell_type": "markdown",
   "id": "20c7ff92",
   "metadata": {},
   "source": [
    "## Connect to Snowflake\n",
    "\n",
    "\n",
    "We will use these parameters and our Snowflake account credentials to connect to Snowflake and create a Snowpark session.<br>\n",
    "**Value:** Secure and governed. "
   ]
  },
  {
   "cell_type": "code",
   "execution_count": 3,
   "id": "043e5b0e-c54c-4005-8d28-1e6d58cca9ea",
   "metadata": {},
   "outputs": [],
   "source": [
    "# Get account credentials from a json file\n",
    "with open(\"snowpark_auth.json\") as f:\n",
    "    data = json.load(f)\n",
    "\n",
    "# Specify connection parameters\n",
    "connection_parameters = {\n",
    "    \"account\": data[\"account\"],\n",
    "    \"user\": data[\"username\"],\n",
    "    \"password\": data[\"password\"],\n",
    "    \"role\": data[\"role\"],\n",
    "    \"warehouse\": data[\"warehouse\"],\n",
    "    \"database\": data[\"database\"],\n",
    "    \"schema\": data[\"schema\"],\n",
    "}\n",
    "\n",
    "# Create Snowpark session\n",
    "session = Session.builder.configs(connection_parameters).create()"
   ]
  },
  {
   "cell_type": "code",
   "execution_count": 7,
   "id": "595a2a06",
   "metadata": {},
   "outputs": [
    {
     "data": {
      "text/plain": [
       "[Row(CURRENT_TIMESTAMP()=datetime.datetime(2023, 9, 14, 17, 36, 7, 508000, tzinfo=<DstTzInfo 'America/Los_Angeles' PDT-1 day, 17:00:00 DST>))]"
      ]
     },
     "execution_count": 7,
     "metadata": {},
     "output_type": "execute_result"
    }
   ],
   "source": [
    "session.sql(\"SELECT CURRENT_TIMESTAMP();\").collect()"
   ]
  },
  {
   "cell_type": "code",
   "execution_count": null,
   "id": "a134ef47-c694-4079-9e4e-379db6565ed8",
   "metadata": {},
   "outputs": [],
   "source": []
  }
 ],
 "metadata": {
  "kernelspec": {
   "display_name": "Python 3 (ipykernel)",
   "language": "python",
   "name": "python3"
  },
  "language_info": {
   "codemirror_mode": {
    "name": "ipython",
    "version": 3
   },
   "file_extension": ".py",
   "mimetype": "text/x-python",
   "name": "python",
   "nbconvert_exporter": "python",
   "pygments_lexer": "ipython3",
   "version": "3.10.12"
  },
  "vscode": {
   "interpreter": {
    "hash": "87393b85a9e84f5acf85b4897642fb1f420cfcaf148d9618810d560b47e94533"
   }
  }
 },
 "nbformat": 4,
 "nbformat_minor": 5
}
